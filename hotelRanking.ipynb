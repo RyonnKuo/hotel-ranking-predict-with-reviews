{
 "cells": [
  {
   "cell_type": "markdown",
   "metadata": {},
   "source": [
    "# Hotel Review Analysis"
   ]
  },
  {
   "cell_type": "code",
   "execution_count": 9,
   "metadata": {},
   "outputs": [
    {
     "name": "stderr",
     "output_type": "stream",
     "text": [
      "[nltk_data] Downloading package stopwords to\n",
      "[nltk_data]     C:\\Users\\USER\\AppData\\Roaming\\nltk_data...\n",
      "[nltk_data]   Package stopwords is already up-to-date!\n",
      "[nltk_data] Downloading package wordnet to\n",
      "[nltk_data]     C:\\Users\\USER\\AppData\\Roaming\\nltk_data...\n",
      "[nltk_data]   Package wordnet is already up-to-date!\n"
     ]
    },
    {
     "data": {
      "text/plain": [
       "True"
      ]
     },
     "execution_count": 9,
     "metadata": {},
     "output_type": "execute_result"
    }
   ],
   "source": [
    "\n",
    "import pandas as pd\n",
    "import numpy as np\n",
    "import matplotlib.pyplot as plt\n",
    "import seaborn as sns\n",
    "import ast\n",
    "\n",
    "from sklearn.feature_extraction.text import TfidfVectorizer\n",
    "from sklearn.model_selection import train_test_split, cross_validate, cross_val_predict\n",
    "from sklearn.svm import LinearSVC\n",
    "from sklearn.decomposition import LatentDirichletAllocation\n",
    "from sklearn.linear_model import LogisticRegression\n",
    "from sklearn.metrics import classification_report, confusion_matrix, make_scorer, f1_score\n",
    "\n",
    "import nltk\n",
    "from nltk.corpus import stopwords\n",
    "from nltk.stem import WordNetLemmatizer\n",
    "import re\n",
    "nltk.download('stopwords')\n",
    "nltk.download('wordnet')"
   ]
  },
  {
   "cell_type": "markdown",
   "metadata": {},
   "source": [
    "# 載入資料"
   ]
  },
  {
   "cell_type": "code",
   "execution_count": 10,
   "metadata": {},
   "outputs": [
    {
     "name": "stdout",
     "output_type": "stream",
     "text": [
      "                                                  ratings  \\\n",
      "0       {'service': 5.0, 'cleanliness': 5.0, 'overall'...   \n",
      "1       {'service': 5.0, 'cleanliness': 5.0, 'overall'...   \n",
      "2       {'service': 4.0, 'cleanliness': 5.0, 'overall'...   \n",
      "3       {'service': 5.0, 'cleanliness': 5.0, 'overall'...   \n",
      "4       {'service': 4.0, 'cleanliness': 5.0, 'overall'...   \n",
      "...                                                   ...   \n",
      "843619                                   {'overall': 4.0}   \n",
      "843620  {'service': 4.0, 'cleanliness': 5.0, 'overall'...   \n",
      "843621  {'cleanliness': 5.0, 'overall': 5.0, 'rooms': ...   \n",
      "843622  {'cleanliness': 5.0, 'overall': 5.0, 'rooms': ...   \n",
      "843623  {'service': 4.0, 'cleanliness': 4.0, 'overall'...   \n",
      "\n",
      "                                                  title  \\\n",
      "0             “Truly is \"Jewel of the Upper Wets Side\"”   \n",
      "1                             “My home away from home!”   \n",
      "2                                          “Great Stay”   \n",
      "3                                  “Modern Convenience”   \n",
      "4       “Its the best of the Andaz Brand in the US....”   \n",
      "...                                                 ...   \n",
      "843619                                 “vil komme igen”   \n",
      "843620                                      “excellent”   \n",
      "843621                           “Un hotel eccezionale”   \n",
      "843622                                   “Gerne wieder”   \n",
      "843623            “Nuevo... novísimo. Estupendo lugar.”   \n",
      "\n",
      "                                                     text  \\\n",
      "0       Stayed in a king suite for 11 nights and yes i...   \n",
      "1       On every visit to NYC, the Hotel Beacon is the...   \n",
      "2       This is a great property in Midtown. We two di...   \n",
      "3       The Andaz is a nice hotel in a central locatio...   \n",
      "4       I have stayed at each of the US Andaz properti...   \n",
      "...                                                   ...   \n",
      "843619  Pænt hotel i et livligt miljø. Store værelser,...   \n",
      "843620  un excellent hotel 4 *, pour un prix raisonnab...   \n",
      "843621  L'hotel, situato in una zona tranquilla e a du...   \n",
      "843622  Sehr schön ausgestattetes Hotel in bester Lage...   \n",
      "843623  El hotel está entre el aeropuerto y Washington...   \n",
      "\n",
      "                                                   author    date_stayed  \\\n",
      "0       {'username': 'Papa_Panda', 'num_cities': 22, '...  December 2012   \n",
      "1       {'username': 'Maureen V', 'num_reviews': 2, 'n...  December 2012   \n",
      "2       {'username': 'vuguru', 'num_cities': 12, 'num_...  December 2012   \n",
      "3       {'username': 'Hotel-Designer', 'num_cities': 5...    August 2012   \n",
      "4       {'username': 'JamesE339', 'num_cities': 34, 'n...  December 2012   \n",
      "...                                                   ...            ...   \n",
      "843619         {'username': '', 'id': '', 'location': ''}            NaN   \n",
      "843620  {'username': 'dan016', 'num_reviews': 2, 'num_...      July 2008   \n",
      "843621         {'username': '', 'id': '', 'location': ''}      July 2008   \n",
      "843622         {'username': '', 'id': '', 'location': ''}      July 2008   \n",
      "843623  {'username': 'Basajaun', 'num_cities': 8, 'num...     March 2008   \n",
      "\n",
      "        offering_id  num_helpful_votes        date  id_review  via_mobile  \\\n",
      "0             93338                  0  2012-12-17  147643103       False   \n",
      "1             93338                  0  2012-12-17  147639004       False   \n",
      "2           1762573                  0  2012-12-18  147697954       False   \n",
      "3           1762573                  0  2012-12-17  147625723       False   \n",
      "4           1762573                  0  2012-12-17  147612823       False   \n",
      "...             ...                ...         ...        ...         ...   \n",
      "843619        84093                  0  2008-08-31   51441576       False   \n",
      "843620        84093                  0  2008-07-18   18003332       False   \n",
      "843621        84093                  0  2008-04-18   15564515       False   \n",
      "843622        84093                  0  2008-04-01   15564508       False   \n",
      "843623        84093                  0  2008-03-13   14259290       False   \n",
      "\n",
      "        hotel_class  region_id  \\\n",
      "0               3.0      60763   \n",
      "1               3.0      60763   \n",
      "2               4.0      60763   \n",
      "3               4.0      60763   \n",
      "4               4.0      60763   \n",
      "...             ...        ...   \n",
      "843619          4.0      28970   \n",
      "843620          4.0      28970   \n",
      "843621          4.0      28970   \n",
      "843622          4.0      28970   \n",
      "843623          4.0      28970   \n",
      "\n",
      "                                                      url  phone  details  \\\n",
      "0       http://www.tripadvisor.com/Hotel_Review-g60763...    NaN      NaN   \n",
      "1       http://www.tripadvisor.com/Hotel_Review-g60763...    NaN      NaN   \n",
      "2       http://www.tripadvisor.com/Hotel_Review-g60763...    NaN      NaN   \n",
      "3       http://www.tripadvisor.com/Hotel_Review-g60763...    NaN      NaN   \n",
      "4       http://www.tripadvisor.com/Hotel_Review-g60763...    NaN      NaN   \n",
      "...                                                   ...    ...      ...   \n",
      "843619  http://www.tripadvisor.com/Hotel_Review-g28970...    NaN      NaN   \n",
      "843620  http://www.tripadvisor.com/Hotel_Review-g28970...    NaN      NaN   \n",
      "843621  http://www.tripadvisor.com/Hotel_Review-g28970...    NaN      NaN   \n",
      "843622  http://www.tripadvisor.com/Hotel_Review-g28970...    NaN      NaN   \n",
      "843623  http://www.tripadvisor.com/Hotel_Review-g28970...    NaN      NaN   \n",
      "\n",
      "                                                  address   type  id_hotel  \\\n",
      "0       {'region': 'NY', 'street-address': '2130 Broad...  hotel     93338   \n",
      "1       {'region': 'NY', 'street-address': '2130 Broad...  hotel     93338   \n",
      "2       {'region': 'NY', 'street-address': '485 5th Av...  hotel   1762573   \n",
      "3       {'region': 'NY', 'street-address': '485 5th Av...  hotel   1762573   \n",
      "4       {'region': 'NY', 'street-address': '485 5th Av...  hotel   1762573   \n",
      "...                                                   ...    ...       ...   \n",
      "843619  {'region': 'DC', 'street-address': '2121 P Str...  hotel     84093   \n",
      "843620  {'region': 'DC', 'street-address': '2121 P Str...  hotel     84093   \n",
      "843621  {'region': 'DC', 'street-address': '2121 P Str...  hotel     84093   \n",
      "843622  {'region': 'DC', 'street-address': '2121 P Str...  hotel     84093   \n",
      "843623  {'region': 'DC', 'street-address': '2121 P Str...  hotel     84093   \n",
      "\n",
      "                                          name  \n",
      "0                                 Hotel Beacon  \n",
      "1                                 Hotel Beacon  \n",
      "2                             Andaz 5th Avenue  \n",
      "3                             Andaz 5th Avenue  \n",
      "4                             Andaz 5th Avenue  \n",
      "...                                        ...  \n",
      "843619  Palomar Washington DC, a Kimpton Hotel  \n",
      "843620  Palomar Washington DC, a Kimpton Hotel  \n",
      "843621  Palomar Washington DC, a Kimpton Hotel  \n",
      "843622  Palomar Washington DC, a Kimpton Hotel  \n",
      "843623  Palomar Washington DC, a Kimpton Hotel  \n",
      "\n",
      "[843624 rows x 19 columns]\n"
     ]
    }
   ],
   "source": [
    "review = pd.read_csv(\"./raw_data/reviews.csv\")\n",
    "offering = pd.read_csv(\"./raw_data/offerings.csv\")\n",
    "\n",
    "# 過濾掉 hotel_class 為空值的資料\n",
    "offering = offering[offering['hotel_class'].notna()]\n",
    "\n",
    "data = review.merge(offering, left_on=\"offering_id\", right_on=\"id\", suffixes=(\"_review\", \"_hotel\"))\n",
    "print(data)"
   ]
  },
  {
   "cell_type": "markdown",
   "metadata": {},
   "source": [
    "# 清洗資料\n",
    "- 將評論文字轉為小寫\n",
    "- 移除特殊符號\n",
    "- 去除停用字\n",
    "- 詞性還原"
   ]
  },
  {
   "cell_type": "code",
   "execution_count": 11,
   "metadata": {},
   "outputs": [],
   "source": [
    "lemmatizer = WordNetLemmatizer()\n",
    "stop_words = set(stopwords.words('english'))\n",
    "\n",
    "def preprocess(text):\n",
    "    text = text.lower()\n",
    "    text = re.sub(r'[^a-z ]', '', text)\n",
    "    tokens = text.split()\n",
    "    tokens = [lemmatizer.lemmatize(word) for word in tokens if word not in stop_words]\n",
    "    return ' '.join(tokens)\n",
    "\n",
    "# from langdetect import detect\n",
    "# def detect_language(text):\n",
    "#     try:\n",
    "#         return detect(text)\n",
    "#     except:\n",
    "#         return \"unknown\"\n",
    "# # 新增欄位標記語言\n",
    "# data['lang'] = data['text'].apply(detect_language)\n",
    "# # 只保留英文\n",
    "# data = data[data['lang'] == 'en']\n",
    "\n",
    "data['clean_text'] = data['text'].apply(preprocess)"
   ]
  },
  {
   "cell_type": "markdown",
   "metadata": {},
   "source": [
    "## 新增欄位&訓練分類SVM器\n",
    "- 將評論分類為 positive / neutral / negative\n",
    "- 將 ratings 欄位從字串解析成字典，並取 overall 欄位\n",
    "- overall ≥ 4 → 正評\n",
    "- overall = 3 → 中評\n",
    "- overall ≤ 2 → 負評\n",
    "- 評論轉成 TF-IDF 向量，考慮 1~2-gram\n",
    "- 切資料，訓練集:測試集 = 7:3\n",
    "- SVM模型訓練\n",
    "- 印出精確率、召回率、F1 分數與混淆矩陣。"
   ]
  },
  {
   "cell_type": "code",
   "execution_count": 12,
   "metadata": {},
   "outputs": [
    {
     "name": "stdout",
     "output_type": "stream",
     "text": [
      "\n",
      "===== SVM =====\n"
     ]
    },
    {
     "name": "stderr",
     "output_type": "stream",
     "text": [
      "c:\\Users\\USER\\AppData\\Local\\Programs\\Python\\Python311\\Lib\\site-packages\\sklearn\\svm\\_classes.py:31: FutureWarning: The default value of `dual` will change from `True` to `'auto'` in 1.5. Set the value of `dual` explicitly to suppress the warning.\n",
      "  warnings.warn(\n"
     ]
    },
    {
     "name": "stdout",
     "output_type": "stream",
     "text": [
      "Classification Report:\n",
      "              precision    recall  f1-score   support\n",
      "\n",
      "    negative       0.71      0.69      0.70     31903\n",
      "     neutral       0.58      0.16      0.26     35288\n",
      "    positive       0.85      0.98      0.91    185897\n",
      "\n",
      "    accuracy                           0.83    253088\n",
      "   macro avg       0.72      0.61      0.62    253088\n",
      "weighted avg       0.80      0.83      0.79    253088\n",
      "\n",
      "Confusion Matrix:\n",
      "[[ 22058   1809   8036]\n",
      " [  6550   5781  22957]\n",
      " [  2248   2322 181327]]\n",
      "\n",
      "===== Logistic Regression =====\n",
      "Classification Report:\n",
      "              precision    recall  f1-score   support\n",
      "\n",
      "    negative       0.74      0.68      0.71     31903\n",
      "     neutral       0.53      0.26      0.35     35288\n",
      "    positive       0.87      0.96      0.91    185897\n",
      "\n",
      "    accuracy                           0.83    253088\n",
      "   macro avg       0.71      0.63      0.66    253088\n",
      "weighted avg       0.80      0.83      0.81    253088\n",
      "\n",
      "Confusion Matrix:\n",
      "[[ 21608   3374   6921]\n",
      " [  5539   9198  20551]\n",
      " [  2058   4722 179117]]\n",
      "\n",
      "===== SVM (5-fold Cross-Validation) =====\n"
     ]
    },
    {
     "name": "stderr",
     "output_type": "stream",
     "text": [
      "c:\\Users\\USER\\AppData\\Local\\Programs\\Python\\Python311\\Lib\\site-packages\\sklearn\\svm\\_classes.py:31: FutureWarning: The default value of `dual` will change from `True` to `'auto'` in 1.5. Set the value of `dual` explicitly to suppress the warning.\n",
      "  warnings.warn(\n",
      "c:\\Users\\USER\\AppData\\Local\\Programs\\Python\\Python311\\Lib\\site-packages\\sklearn\\svm\\_classes.py:31: FutureWarning: The default value of `dual` will change from `True` to `'auto'` in 1.5. Set the value of `dual` explicitly to suppress the warning.\n",
      "  warnings.warn(\n",
      "c:\\Users\\USER\\AppData\\Local\\Programs\\Python\\Python311\\Lib\\site-packages\\sklearn\\svm\\_classes.py:31: FutureWarning: The default value of `dual` will change from `True` to `'auto'` in 1.5. Set the value of `dual` explicitly to suppress the warning.\n",
      "  warnings.warn(\n",
      "c:\\Users\\USER\\AppData\\Local\\Programs\\Python\\Python311\\Lib\\site-packages\\sklearn\\svm\\_classes.py:31: FutureWarning: The default value of `dual` will change from `True` to `'auto'` in 1.5. Set the value of `dual` explicitly to suppress the warning.\n",
      "  warnings.warn(\n",
      "c:\\Users\\USER\\AppData\\Local\\Programs\\Python\\Python311\\Lib\\site-packages\\sklearn\\svm\\_classes.py:31: FutureWarning: The default value of `dual` will change from `True` to `'auto'` in 1.5. Set the value of `dual` explicitly to suppress the warning.\n",
      "  warnings.warn(\n"
     ]
    },
    {
     "name": "stdout",
     "output_type": "stream",
     "text": [
      "Accuracy (mean): 0.8254\n",
      "F1 Macro (mean): 0.6237\n",
      "\n",
      "===== Logistic Regression (5-fold Cross-Validation) =====\n",
      "Accuracy (mean): 0.8281\n",
      "F1 Macro (mean): 0.6567\n"
     ]
    }
   ],
   "source": [
    "def extract_overall_rating(r):\n",
    "    try:\n",
    "        rating_dict = ast.literal_eval(r)\n",
    "        return rating_dict.get('overall', np.nan)\n",
    "    except Exception:\n",
    "        return np.nan\n",
    "\n",
    "data['overall_rating'] = data['ratings'].apply(extract_overall_rating)\n",
    "\n",
    "# 建立情感標籤\n",
    "conditions = [data['overall_rating'] >= 4, data['overall_rating'] == 3, data['overall_rating'] <= 2]\n",
    "choices = ['positive', 'neutral', 'negative']\n",
    "data['label'] = np.select(conditions, choices, default='neutral')\n",
    "\n",
    "# TF-IDF 向量化\n",
    "vectorizer = TfidfVectorizer(ngram_range=(1,2), max_features=1000, stop_words=\"english\")\n",
    "X = vectorizer.fit_transform(data['clean_text'])\n",
    "y = data['label']\n",
    "\n",
    "# 分割資料集\n",
    "X_train, X_test, y_train, y_test = train_test_split(X, y, test_size=0.3, random_state=42)\n",
    "\n",
    "# 分別使用 Logistic Regression & Linear SVM 模型訓練\n",
    "models = {\n",
    "    'SVM': LinearSVC(),\n",
    "    'Logistic Regression': LogisticRegression(max_iter=1000)\n",
    "}\n",
    "\n",
    "# 訓練 & 輸出結果\n",
    "for name, model in models.items():\n",
    "    print(f\"\\n===== {name} =====\")\n",
    "    model.fit(X_train, y_train)\n",
    "    y_pred = model.predict(X_test)\n",
    "    \n",
    "    # 分類器效果\n",
    "    print(\"Classification Report:\")\n",
    "    print(classification_report(y_test, y_pred))\n",
    "    \n",
    "    # 混淆矩陣\n",
    "    print(\"Confusion Matrix:\")\n",
    "    print(confusion_matrix(y_test, y_pred))\n",
    "    \n",
    "\n",
    "scoring = {\n",
    "    'accuracy': 'accuracy',\n",
    "    'f1_macro': make_scorer(f1_score, average='macro')\n",
    "}\n",
    "\n",
    "for name, model in models.items():\n",
    "    print(f\"\\n===== {name} (5-fold Cross-Validation) =====\")\n",
    "    scores = cross_validate(model, X, y, cv=5, scoring=scoring)\n",
    "    print(f\"Accuracy (mean): {scores['test_accuracy'].mean():.4f}\")\n",
    "    print(f\"F1 Macro (mean): {scores['test_f1_macro'].mean():.4f}\")\n",
    "\n"
   ]
  },
  {
   "cell_type": "markdown",
   "metadata": {},
   "source": [
    "##  LDA 主題模型\n",
    "- 找出評論中最常見的主題\n",
    "- 結果有除了英語以外的主題詞彙，可以在Step3濾掉\n",
    "- 將評論轉為 TF-IDF，再套用 LDA 模型分成 3 個主題\n",
    "- 印出每個主題的前10個關鍵詞"
   ]
  },
  {
   "cell_type": "code",
   "execution_count": 13,
   "metadata": {},
   "outputs": [
    {
     "name": "stdout",
     "output_type": "stream",
     "text": [
      "\n",
      "Topic #1:\n",
      "['hotel', 'great', 'location', 'staff', 'room', 'square', 'clean', 'good', 'helpful', 'stay']\n",
      "\n",
      "Topic #2:\n",
      "['und', 'da', 'die', 'ist', 'di', 'der', 'la', 'sehr', 'il', 'zimmer']\n",
      "\n",
      "Topic #3:\n",
      "['room', 'hotel', 'great', 'stay', 'staff', 'nice', 'night', 'good', 'service', 'stayed']\n"
     ]
    }
   ],
   "source": [
    "lda_vectorizer = TfidfVectorizer(max_df=0.95, min_df=2, stop_words='english')\n",
    "lda_matrix = lda_vectorizer.fit_transform(data['clean_text'])\n",
    "lda = LatentDirichletAllocation(n_components=3, random_state=2025)\n",
    "lda.fit(lda_matrix)\n",
    "\n",
    "terms = lda_vectorizer.get_feature_names_out()\n",
    "for idx, topic in enumerate(lda.components_):\n",
    "    print(f\"\\nTopic #{idx+1}:\")\n",
    "    print([terms[i] for i in topic.argsort()[:-11:-1]])"
   ]
  }
 ],
 "metadata": {
  "kernelspec": {
   "display_name": "Python 3",
   "language": "python",
   "name": "python3"
  },
  "language_info": {
   "codemirror_mode": {
    "name": "ipython",
    "version": 3
   },
   "file_extension": ".py",
   "mimetype": "text/x-python",
   "name": "python",
   "nbconvert_exporter": "python",
   "pygments_lexer": "ipython3",
   "version": "3.11.1"
  }
 },
 "nbformat": 4,
 "nbformat_minor": 2
}
